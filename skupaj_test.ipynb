{
 "cells": [
  {
   "cell_type": "code",
   "execution_count": 3,
   "metadata": {
    "collapsed": false
   },
   "outputs": [
    {
     "data": {
      "text/plain": [
       "[[(0.492778469557924, -0.670108955735502), 27/5],\n",
       " [(-4.84360895725157, -8.84780371658707), 21/5],\n",
       " [(-0.795180733159384, -8.11527054717291), 12/5],\n",
       " [(8.20890778646198, 9.95815434638317), 21/5],\n",
       " [(1.41178816338756, 8.46542872160813), 24/5],\n",
       " [(7.47854801601668, 4.71942469780198), 3/5],\n",
       " [(7.45566273840637, 2.62988652247188), 18/5],\n",
       " [(9.32367418378275, 0.329622121581190), 24/5]]"
      ]
     },
     "execution_count": 3,
     "metadata": {
     },
     "output_type": "execute_result"
    }
   ],
   "source": [
    "from sage.misc.prandom import randrange\n",
    "from sage.misc.randstate import current_randstate\n",
    "def test1(kolicina): # kolicina je stevilo, ki jo podamo programu, da ustrezno skalira razvoz\n",
    "    m = ZZ.random_element(1,10)\n",
    "    n = ZZ.random_element(1,10)\n",
    "    razvoz = ZZ.random_element(1,10)\n",
    "    proizvodnja = []\n",
    "    poraba = []\n",
    "    s = ([[(RR.random_element(-10,10),RR.random_element(-10,10)),ZZ.random_element(1,10)] for i in range(m)])\n",
    "    d = ([[(RR.random_element(-10,10),RR.random_element(-10,10)),ZZ.random_element(1,10)] for j in range(n)])\n",
    "    L_1 = [proizvodnja.append(s[i][1]) for i in range(len(s))]\n",
    "    vsota_proizvodnje = sum([proizvodnja[i] for i in range(len(proizvodnja))])\n",
    "    for i in range(len(s)):\n",
    "        s[i][1] = proizvodnja[i] * (kolicina/vsota_proizvodnje)\n",
    "    L_2 = [poraba.append(d[j][1]) for j in range(len(d))]\n",
    "    vsota_porabe = sum([poraba[j] for j in range(len(poraba))])\n",
    "    for j in range(len(d)):\n",
    "        d[j][1] = poraba[j] * (kolicina/vsota_porabe)\n",
    "    return s,d\n",
    "\n",
    "def program(s,d):\n",
    "    m = len(s)\n",
    "    n = len(d)\n",
    "    p = MixedIntegerLinearProgram(maximization=False)\n",
    "    b = p.new_variable(binary=True)\n",
    "    c = p.new_variable(nonnegative=True)\n",
    "    p.set_objective(p['l'])\n",
    "    p.add_constraint((p['l']) >= 0)\n",
    "    for i in range(len(s)):\n",
    "        for j in range(len(d)):\n",
    "            p.add_constraint((b[i,j]*sqrt((d[j][0][0]-s[i][0][0])^2+(d[j][0][1]-s[i][0][1])^2)) <= p['l'])\n",
    "            p.add_constraint(c[i, j] >= 0)\n",
    "            p.add_constraint(c[i, j] <= s[i][1]*b[i,j])\n",
    "    for i in range(len(s)):\n",
    "        p.add_constraint(p.sum(c[i, j] for j in range(n)) == s[i][1])\n",
    "    for j in range(len(d)):\n",
    "        p.add_constraint(p.sum(c[i, j] for i in range(m)) == d[j][1])\n",
    "    z = p.solve()\n",
    "    povezave = p.get_values(b)\n",
    "    kolicine = p.get_values(c)\n",
    "    return z, povezave, kolicine\n",
    "\n",
    "with seed(7): k,l = test1(20)\n",
    "program(k,l)\n",
    "k\n",
    "l\n",
    "\n",
    "with seed(8): u,v = test1(30)\n",
    "program(u,v)\n",
    "u\n",
    "v"
   ]
  },
  {
   "cell_type": "code",
   "execution_count": 0,
   "metadata": {
    "collapsed": false
   },
   "outputs": [
   ],
   "source": [
   ]
  }
 ],
 "metadata": {
  "kernelspec": {
   "display_name": "SageMath 9.7",
   "language": "sagemath",
   "metadata": {
    "cocalc": {
     "description": "Open-source mathematical software system",
     "priority": 10,
     "url": "https://www.sagemath.org/"
    }
   },
   "name": "sage-9.7",
   "resource_dir": "/ext/jupyter/kernels/sage-9.7"
  },
  "language_info": {
   "codemirror_mode": {
    "name": "ipython",
    "version": 3
   },
   "file_extension": ".py",
   "mimetype": "text/x-python",
   "name": "python",
   "nbconvert_exporter": "python",
   "pygments_lexer": "ipython3",
   "version": "3.10.5"
  }
 },
 "nbformat": 4,
 "nbformat_minor": 4
}